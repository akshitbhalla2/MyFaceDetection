{
 "cells": [
  {
   "cell_type": "code",
   "execution_count": 1,
   "metadata": {},
   "outputs": [],
   "source": [
    "import zipfile\n",
    "import os\n",
    "import glob"
   ]
  },
  {
   "cell_type": "code",
   "execution_count": 2,
   "metadata": {},
   "outputs": [],
   "source": [
    "# We only have a folder named annotations.\n",
    "# It contains all the zip files.\n",
    "# We will creat the following folders: \n",
    "# 1. annotations_extracted: Extracted zip files will be saved\n",
    "# 2. data/jpg: jpg files\n",
    "# 3. data/xml: xml files"
   ]
  },
  {
   "cell_type": "code",
   "execution_count": 3,
   "metadata": {},
   "outputs": [],
   "source": [
    "data = os.listdir(\"./annotations\")"
   ]
  },
  {
   "cell_type": "code",
   "execution_count": 4,
   "metadata": {},
   "outputs": [],
   "source": [
    "os.mkdir(\"annotations_extracted\")"
   ]
  },
  {
   "cell_type": "code",
   "execution_count": 5,
   "metadata": {},
   "outputs": [],
   "source": [
    "for img in data:\n",
    "    local_zip = os.path.join(\"./annotations\", img)\n",
    "    zip_ref = zipfile.ZipFile(local_zip, 'r')\n",
    "    zip_ref.extractall(\"./annotations_extracted\")\n",
    "    zip_ref.close()"
   ]
  },
  {
   "cell_type": "code",
   "execution_count": 6,
   "metadata": {},
   "outputs": [],
   "source": [
    "os.mkdir(\"data\")\n",
    "os.mkdir(\"./data/jpg\")\n",
    "os.mkdir(\"./data/xml\")"
   ]
  },
  {
   "cell_type": "code",
   "execution_count": 7,
   "metadata": {},
   "outputs": [],
   "source": [
    "data = os.listdir(\"./annotations_extracted\")"
   ]
  },
  {
   "cell_type": "code",
   "execution_count": 8,
   "metadata": {},
   "outputs": [],
   "source": [
    "def rename_and_transfer(path, ext):\n",
    "    for oldfile in glob.glob(path + \"/*\" + ext):\n",
    "        newfile = '{}.{}'.format(i, ext)\n",
    "        os.rename(\n",
    "            oldfile, \n",
    "            os.path.join(\"./data\", ext, newfile)\n",
    "        )\n",
    "        \n",
    "    return "
   ]
  },
  {
   "cell_type": "code",
   "execution_count": 9,
   "metadata": {},
   "outputs": [],
   "source": [
    "for i, name in enumerate(data, start=1):\n",
    "    path = os.path.join(\"./annotations_extracted\", name)\n",
    "    rename_and_transfer(path, \"jpg\")\n",
    "    rename_and_transfer(path, \"xml\")"
   ]
  },
  {
   "cell_type": "code",
   "execution_count": null,
   "metadata": {},
   "outputs": [],
   "source": []
  }
 ],
 "metadata": {
  "kernelspec": {
   "display_name": "Python 3",
   "language": "python",
   "name": "python3"
  },
  "language_info": {
   "codemirror_mode": {
    "name": "ipython",
    "version": 3
   },
   "file_extension": ".py",
   "mimetype": "text/x-python",
   "name": "python",
   "nbconvert_exporter": "python",
   "pygments_lexer": "ipython3",
   "version": "3.7.4"
  }
 },
 "nbformat": 4,
 "nbformat_minor": 2
}
