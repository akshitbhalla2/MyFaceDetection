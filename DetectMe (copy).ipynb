{
 "cells": [
  {
   "cell_type": "code",
   "execution_count": 1,
   "metadata": {},
   "outputs": [],
   "source": [
    "import pandas as pd\n",
    "import numpy as np\n",
    "import os\n",
    "import xmltodict\n",
    "import json\n",
    "import matplotlib.pyplot as plt\n",
    "import cv2"
   ]
  },
  {
   "cell_type": "code",
   "execution_count": 2,
   "metadata": {},
   "outputs": [],
   "source": [
    "xml_files = os.listdir(\"./data/xml\")\n",
    "xml_content = []\n",
    "\n",
    "for file in xml_files:\n",
    "    f = open(\"./data/xml/\" + file)\n",
    "    data_dict = xmltodict.parse(f.read())\n",
    "    xml_content.append(data_dict)"
   ]
  },
  {
   "cell_type": "code",
   "execution_count": 4,
   "metadata": {},
   "outputs": [
    {
     "data": {
      "text/plain": [
       "OrderedDict([('annotation',\n",
       "              OrderedDict([('filename', '20200209_164953.jpg'),\n",
       "                           ('folder', 'users/AkshitBhalla//facebox'),\n",
       "                           ('source',\n",
       "                            OrderedDict([('submittedBy', 'Akshit Bhalla')])),\n",
       "                           ('imagesize',\n",
       "                            OrderedDict([('nrows', '1188'),\n",
       "                                         ('ncols', '2576')])),\n",
       "                           ('object',\n",
       "                            OrderedDict([('name', 'face'),\n",
       "                                         ('deleted', '0'),\n",
       "                                         ('verified', '0'),\n",
       "                                         ('occluded', 'no'),\n",
       "                                         ('attributes', None),\n",
       "                                         ('parts',\n",
       "                                          OrderedDict([('hasparts', None),\n",
       "                                                       ('ispartof', None)])),\n",
       "                                         ('date', '06-09-20 19:43:53:073'),\n",
       "                                         ('id', '0'),\n",
       "                                         ('type', 'bounding_box'),\n",
       "                                         ('polygon',\n",
       "                                          OrderedDict([('username',\n",
       "                                                        'anonymous'),\n",
       "                                                       ('pt',\n",
       "                                                        [OrderedDict([('x',\n",
       "                                                                       '1365'),\n",
       "                                                                      ('y',\n",
       "                                                                       '261'),\n",
       "                                                                      ('time',\n",
       "                                                                       '06-09-20 19:43:47:427')]),\n",
       "                                                         OrderedDict([('x',\n",
       "                                                                       '1649'),\n",
       "                                                                      ('y',\n",
       "                                                                       '261'),\n",
       "                                                                      ('time',\n",
       "                                                                       '06-09-20 19:43:51:252')]),\n",
       "                                                         OrderedDict([('x',\n",
       "                                                                       '1649'),\n",
       "                                                                      ('y',\n",
       "                                                                       '661'),\n",
       "                                                                      ('time',\n",
       "                                                                       'undefined')]),\n",
       "                                                         OrderedDict([('x',\n",
       "                                                                       '1365'),\n",
       "                                                                      ('y',\n",
       "                                                                       '661'),\n",
       "                                                                      ('time',\n",
       "                                                                       'undefined')])]),\n",
       "                                                       ('closed_date',\n",
       "                                                        '06-09-20 19:43:51:253')]))]))]))])"
      ]
     },
     "execution_count": 4,
     "metadata": {},
     "output_type": "execute_result"
    }
   ],
   "source": [
    "xml_content[0]"
   ]
  },
  {
   "cell_type": "code",
   "execution_count": null,
   "metadata": {},
   "outputs": [],
   "source": []
  },
  {
   "cell_type": "code",
   "execution_count": null,
   "metadata": {},
   "outputs": [],
   "source": []
  },
  {
   "cell_type": "code",
   "execution_count": null,
   "metadata": {},
   "outputs": [],
   "source": [
    "coords = data_dict[\"annotation\"][\"object\"][\"polygon\"][\"pt\"]"
   ]
  },
  {
   "cell_type": "code",
   "execution_count": null,
   "metadata": {},
   "outputs": [],
   "source": [
    "coords"
   ]
  },
  {
   "cell_type": "code",
   "execution_count": null,
   "metadata": {},
   "outputs": [],
   "source": [
    "temp = dict(coords[0])\n",
    "x1 = int(temp[\"x\"])\n",
    "y1 = int(temp[\"y\"])"
   ]
  },
  {
   "cell_type": "code",
   "execution_count": null,
   "metadata": {},
   "outputs": [],
   "source": [
    "temp = dict(coords[2])\n",
    "x2 = int(temp[\"x\"])\n",
    "y2 = int(temp[\"y\"])"
   ]
  },
  {
   "cell_type": "code",
   "execution_count": null,
   "metadata": {},
   "outputs": [],
   "source": []
  },
  {
   "cell_type": "code",
   "execution_count": null,
   "metadata": {},
   "outputs": [],
   "source": [
    "img = cv2.imread(\"./data/jpg/\" + str(no) + \".jpg\")\n",
    "img = cv2.cvtColor(img, cv2.COLOR_BGR2RGB)\n",
    "plt.imshow(img)"
   ]
  },
  {
   "cell_type": "code",
   "execution_count": null,
   "metadata": {},
   "outputs": [],
   "source": [
    "temp = img.copy()"
   ]
  },
  {
   "cell_type": "code",
   "execution_count": null,
   "metadata": {},
   "outputs": [],
   "source": [
    "cv2.rectangle(\n",
    "    img,\n",
    "    pt1 = (x1, y1),  \n",
    "    pt2 = (x2, y2),\n",
    "    color = (0, 0, 0),\n",
    "    thickness = 100\n",
    ")\n",
    "plt.imshow(img)"
   ]
  },
  {
   "cell_type": "code",
   "execution_count": null,
   "metadata": {},
   "outputs": [],
   "source": [
    "temp = cv2.copyMakeBorder(\n",
    "    temp, \n",
    "    0, \n",
    "    5000-img.shape[0], \n",
    "    0, \n",
    "    5000-img.shape[1], \n",
    "    cv2.BORDER_CONSTANT\n",
    ")"
   ]
  },
  {
   "cell_type": "code",
   "execution_count": null,
   "metadata": {
    "scrolled": true
   },
   "outputs": [],
   "source": [
    "plt.imshow(temp)"
   ]
  },
  {
   "cell_type": "code",
   "execution_count": null,
   "metadata": {},
   "outputs": [],
   "source": [
    "save = os.path.join(\"./data/jpg\", str(no) + \".jpg\")\n",
    "temp = cv2.cvtColor(temp, cv2.COLOR_RGB2BGR)\n",
    "cv2.imwrite(save, temp)"
   ]
  },
  {
   "cell_type": "code",
   "execution_count": null,
   "metadata": {},
   "outputs": [],
   "source": [
    "x_c  = (x1 + x2)/2\n",
    "y_c  = (y1 + y2)/2"
   ]
  },
  {
   "cell_type": "code",
   "execution_count": null,
   "metadata": {},
   "outputs": [],
   "source": [
    "h = np.abs(x1 - x2)/2\n",
    "w = np.abs(y1 - y2)/2"
   ]
  },
  {
   "cell_type": "code",
   "execution_count": null,
   "metadata": {},
   "outputs": [],
   "source": []
  },
  {
   "cell_type": "code",
   "execution_count": null,
   "metadata": {},
   "outputs": [],
   "source": []
  },
  {
   "cell_type": "code",
   "execution_count": null,
   "metadata": {},
   "outputs": [],
   "source": []
  },
  {
   "cell_type": "code",
   "execution_count": null,
   "metadata": {},
   "outputs": [],
   "source": []
  },
  {
   "cell_type": "code",
   "execution_count": null,
   "metadata": {},
   "outputs": [],
   "source": []
  },
  {
   "cell_type": "code",
   "execution_count": null,
   "metadata": {},
   "outputs": [],
   "source": []
  },
  {
   "cell_type": "code",
   "execution_count": null,
   "metadata": {},
   "outputs": [],
   "source": [
    "# os.listdir(\"./data/xml\")"
   ]
  },
  {
   "cell_type": "code",
   "execution_count": null,
   "metadata": {},
   "outputs": [],
   "source": [
    "# o = xmltodict.parse('<e> <a>text</a> <a>text</a> </e>')\n",
    "# json.dumps(o)"
   ]
  }
 ],
 "metadata": {
  "kernelspec": {
   "display_name": "Python 3",
   "language": "python",
   "name": "python3"
  },
  "language_info": {
   "codemirror_mode": {
    "name": "ipython",
    "version": 3
   },
   "file_extension": ".py",
   "mimetype": "text/x-python",
   "name": "python",
   "nbconvert_exporter": "python",
   "pygments_lexer": "ipython3",
   "version": "3.7.4"
  }
 },
 "nbformat": 4,
 "nbformat_minor": 2
}
