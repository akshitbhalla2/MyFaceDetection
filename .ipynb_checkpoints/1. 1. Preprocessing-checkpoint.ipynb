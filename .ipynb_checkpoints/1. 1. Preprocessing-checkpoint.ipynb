{
 "cells": [
  {
   "cell_type": "code",
   "execution_count": 1,
   "metadata": {},
   "outputs": [],
   "source": [
    "import zipfile\n",
    "import os\n",
    "import glob\n",
    "import shutil"
   ]
  },
  {
   "cell_type": "code",
   "execution_count": 2,
   "metadata": {},
   "outputs": [],
   "source": [
    "# We have the following folder structure:\n",
    "# 1. annotations: zip files of Akshit\n",
    "# 2. random: Random images of things\n",
    "\n",
    "# We want the following folder structure:\n",
    "# 1. data\n",
    "# 1.1. training\n",
    "# 1.1.1. Akshit\n",
    "# 1.1.2. Other\n",
    "# 1.2. validation\n",
    "# 1.2.1. Akshit\n",
    "# 1.2.2. Other"
   ]
  },
  {
   "cell_type": "code",
   "execution_count": 3,
   "metadata": {},
   "outputs": [],
   "source": [
    "# First, extract zipped files in annotations into the folder annotations_extracted."
   ]
  },
  {
   "cell_type": "code",
   "execution_count": 4,
   "metadata": {},
   "outputs": [],
   "source": [
    "data = os.listdir(\"./annotations\")"
   ]
  },
  {
   "cell_type": "code",
   "execution_count": 5,
   "metadata": {},
   "outputs": [],
   "source": [
    "os.mkdir(\"annotations_extracted\")"
   ]
  },
  {
   "cell_type": "code",
   "execution_count": 6,
   "metadata": {},
   "outputs": [],
   "source": [
    "for img in data:\n",
    "    local_zip = os.path.join(\"./annotations\", img)\n",
    "    zip_ref = zipfile.ZipFile(local_zip, 'r')\n",
    "    zip_ref.extractall(\"./annotations_extracted\")\n",
    "    zip_ref.close()"
   ]
  },
  {
   "cell_type": "code",
   "execution_count": 7,
   "metadata": {},
   "outputs": [],
   "source": [
    "# Second, take all jpg and xml files in annotations_extracted and structure them as:\n",
    "# 1.data\n",
    "# 1.1. jpg\n",
    "# 1.2. xml"
   ]
  },
  {
   "cell_type": "code",
   "execution_count": 8,
   "metadata": {},
   "outputs": [],
   "source": [
    "os.mkdir(\"data\")\n",
    "os.mkdir(\"./data/jpg\")\n",
    "os.mkdir(\"./data/xml\")"
   ]
  },
  {
   "cell_type": "code",
   "execution_count": 9,
   "metadata": {},
   "outputs": [],
   "source": [
    "data = os.listdir(\"./annotations_extracted\")"
   ]
  },
  {
   "cell_type": "code",
   "execution_count": 10,
   "metadata": {},
   "outputs": [],
   "source": [
    "def rename_and_transfer(path, ext):\n",
    "    for oldfile in glob.glob(path + \"/*\" + ext):\n",
    "        newfile = '{}.{}'.format(i, ext)\n",
    "        os.rename(\n",
    "            oldfile, \n",
    "            os.path.join(\"./data\", ext, newfile)\n",
    "        )\n",
    "        \n",
    "    return "
   ]
  },
  {
   "cell_type": "code",
   "execution_count": 11,
   "metadata": {},
   "outputs": [],
   "source": [
    "for i, name in enumerate(data, start=1):\n",
    "    path = os.path.join(\"./annotations_extracted\", name)\n",
    "    rename_and_transfer(path, \"jpg\")\n",
    "    rename_and_transfer(path, \"xml\")"
   ]
  },
  {
   "cell_type": "code",
   "execution_count": 12,
   "metadata": {},
   "outputs": [],
   "source": [
    "# Third, remove annotations_extracted since it is redundant"
   ]
  },
  {
   "cell_type": "code",
   "execution_count": 13,
   "metadata": {},
   "outputs": [],
   "source": [
    "shutil.rmtree(\"./annotations_extracted\")"
   ]
  },
  {
   "cell_type": "code",
   "execution_count": null,
   "metadata": {},
   "outputs": [],
   "source": []
  }
 ],
 "metadata": {
  "kernelspec": {
   "display_name": "Python 3",
   "language": "python",
   "name": "python3"
  },
  "language_info": {
   "codemirror_mode": {
    "name": "ipython",
    "version": 3
   },
   "file_extension": ".py",
   "mimetype": "text/x-python",
   "name": "python",
   "nbconvert_exporter": "python",
   "pygments_lexer": "ipython3",
   "version": "3.7.4"
  }
 },
 "nbformat": 4,
 "nbformat_minor": 2
}
